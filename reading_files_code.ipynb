{
 "cells": [
  {
   "cell_type": "code",
   "execution_count": null,
   "metadata": {},
   "outputs": [
    {
     "name": "stdout",
     "output_type": "stream",
     "text": [
      "Error: Invalid choice! Please enter 1, 2, 3, or 4.\n",
      "Error: Invalid choice! Please enter 1, 2, 3, or 4.\n",
      "Error: Invalid choice! Please enter 1, 2, 3, or 4.\n",
      "Error: Invalid choice! Please enter 1, 2, 3, or 4.\n",
      "Exiting...\n"
     ]
    }
   ],
   "source": [
    "import pandas as pd\n",
    "import os\n",
    "from pathlib import Path\n",
    "\n",
    "def read_files_from_directory():\n",
    "    \"\"\"\n",
    "    This function allows the user to select a file type (CSV, Excel, or JSON) and reads \n",
    "    all files of the selected type from a specified directory, displaying their content.\n",
    "    \"\"\"\n",
    "    dir_path = r\"C:\\Users\\Abhishek\\OneDrive\\Desktop\\Python Train\"\n",
    "\n",
    "    while True:\n",
    "        choice = input(\"Enter your choice [1. CSV, 2. XLS, 3. JSON, 4. Exit]: \").strip()\n",
    "        if choice == '4':\n",
    "            print(\"Exiting...\")\n",
    "            print(\"Successfully Exit\")\n",
    "            break\n",
    "        try:\n",
    "            if choice not in ['1', '2', '3']:\n",
    "                raise ValueError(\"Invalid choice! Please enter 1, 2, 3, or 4.\")\n",
    "            \n",
    "            f_ext = {\n",
    "                '1': ['.csv'], \n",
    "                '2': ['.xls', '.xlsx'],\n",
    "                '3': ['.json'] \n",
    "            }\n",
    "            select_ext = f_ext[choice]\n",
    "            for f_name in os.listdir(dir_path):\n",
    "                f_path = os.path.join(dir_path, f_name)\n",
    "                f_ext = Path(f_path).suffix.lower()\n",
    "                \n",
    "                if f_ext in select_ext:\n",
    "                    try:\n",
    "                        if f_ext == '.csv':\n",
    "                            df = pd.read_csv(f_path)\n",
    "                        elif f_ext in ['.xls', '.xlsx']:\n",
    "                            df = pd.read_excel(f_path)\n",
    "                        elif f_ext == '.json':\n",
    "                            df = pd.read_json(f_path)\n",
    "\n",
    "                        print(f\"\\nSuccessfully read file: {f_name}\")\n",
    "                        print(df.head())\n",
    "                    except Exception as e:\n",
    "                        print(f\"Error reading file {f_name}: {e}\")\n",
    "        except Exception as e:\n",
    "            print(f\"Error: {e}\")\n",
    "\n",
    "read_files_from_directory()\n"
   ]
  }
 ],
 "metadata": {
  "kernelspec": {
   "display_name": "Python 3",
   "language": "python",
   "name": "python3"
  },
  "language_info": {
   "codemirror_mode": {
    "name": "ipython",
    "version": 3
   },
   "file_extension": ".py",
   "mimetype": "text/x-python",
   "name": "python",
   "nbconvert_exporter": "python",
   "pygments_lexer": "ipython3",
   "version": "3.12.1"
  }
 },
 "nbformat": 4,
 "nbformat_minor": 2
}
